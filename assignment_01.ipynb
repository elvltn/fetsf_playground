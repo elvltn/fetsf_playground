{
 "cells": [
  {
   "cell_type": "markdown",
   "id": "2d1a73ab",
   "metadata": {},
   "source": [
    "# Tabularize time series\n",
    "\n",
    "In this assignment, your task is to convert **time series data** into a **tabular data set**.\n",
    "\n",
    "You need to create suitable input features from a time series containing weekly sales to be able to forecast sales for the next week.\n",
    "\n",
    "To prepare the dataset for this assignment, please follow the guidelines in the notebook `02-create-online-retail-II-datasets.ipynb` in the `01-Create-Datasets` folder."
   ]
  },
  {
   "cell_type": "code",
   "execution_count": 241,
   "id": "2f87527f-51cb-43ad-bbc4-bdbd8d1302c1",
   "metadata": {
    "tags": []
   },
   "outputs": [],
   "source": [
    "import numpy as np\n",
    "import pandas as pd\n",
    "import matplotlib.pyplot as plt\n",
    "\n",
    "from datetime import datetime, timedelta\n",
    "import holidays\n",
    "\n",
    "from feature_engine.creation import CyclicalFeatures\n",
    "from sklearn.ensemble import RandomForestRegressor\n",
    "from sklearn.linear_model import Lasso\n",
    "from sklearn.metrics import mean_squared_error"
   ]
  },
  {
   "cell_type": "code",
   "execution_count": 242,
   "id": "5c93a6b1-5c63-4754-8838-3a8a10a928a8",
   "metadata": {
    "tags": []
   },
   "outputs": [],
   "source": [
    "# setting my own output (print) format\n",
    "\n",
    "sep = ('_' * 24) + '\\n'\n",
    "\n",
    "def myout(msg, x=None):\n",
    "    print(f'{sep}{msg}\\n')\n",
    "    if x is not None:\n",
    "        print(f'{x}\\n\\n')"
   ]
  },
  {
   "cell_type": "code",
   "execution_count": 243,
   "id": "f53976d3",
   "metadata": {
    "tags": []
   },
   "outputs": [
    {
     "data": {
      "text/html": [
       "<div>\n",
       "<style scoped>\n",
       "    .dataframe tbody tr th:only-of-type {\n",
       "        vertical-align: middle;\n",
       "    }\n",
       "\n",
       "    .dataframe tbody tr th {\n",
       "        vertical-align: top;\n",
       "    }\n",
       "\n",
       "    .dataframe thead th {\n",
       "        text-align: right;\n",
       "    }\n",
       "</style>\n",
       "<table border=\"1\" class=\"dataframe\">\n",
       "  <thead>\n",
       "    <tr style=\"text-align: right;\">\n",
       "      <th></th>\n",
       "      <th>sales</th>\n",
       "    </tr>\n",
       "    <tr>\n",
       "      <th>week</th>\n",
       "      <th></th>\n",
       "    </tr>\n",
       "  </thead>\n",
       "  <tbody>\n",
       "    <tr>\n",
       "      <th>2009-12-06</th>\n",
       "      <td>213000.35</td>\n",
       "    </tr>\n",
       "    <tr>\n",
       "      <th>2009-12-13</th>\n",
       "      <td>195810.04</td>\n",
       "    </tr>\n",
       "    <tr>\n",
       "      <th>2009-12-20</th>\n",
       "      <td>182396.74</td>\n",
       "    </tr>\n",
       "    <tr>\n",
       "      <th>2009-12-27</th>\n",
       "      <td>22007.77</td>\n",
       "    </tr>\n",
       "    <tr>\n",
       "      <th>2010-01-03</th>\n",
       "      <td>0.00</td>\n",
       "    </tr>\n",
       "  </tbody>\n",
       "</table>\n",
       "</div>"
      ],
      "text/plain": [
       "                sales\n",
       "week                 \n",
       "2009-12-06  213000.35\n",
       "2009-12-13  195810.04\n",
       "2009-12-20  182396.74\n",
       "2009-12-27   22007.77\n",
       "2010-01-03       0.00"
      ]
     },
     "execution_count": 243,
     "metadata": {},
     "output_type": "execute_result"
    }
   ],
   "source": [
    "# load weekly sales dataset\n",
    "\n",
    "filename = \"../../Datasets/online_retail_dataset.csv\"\n",
    "\n",
    "df = pd.read_csv(\n",
    "    filename,\n",
    "    usecols=[\"week\", \"United Kingdom\"],\n",
    "    parse_dates=[\"week\"],\n",
    "    index_col=[\"week\"],\n",
    ")\n",
    "\n",
    "df.rename(columns={\"United Kingdom\": \"sales\"}, inplace=True)\n",
    "df.sort_index(inplace=True)\n",
    "\n",
    "df.head()"
   ]
  },
  {
   "cell_type": "markdown",
   "id": "cdfe9415",
   "metadata": {},
   "source": [
    "# Data analysis\n",
    "\n",
    "First, explore the time series.\n"
   ]
  },
  {
   "cell_type": "code",
   "execution_count": 244,
   "id": "9aad4110-38ae-444c-ba5f-ce5e746d18c6",
   "metadata": {
    "tags": []
   },
   "outputs": [
    {
     "name": "stdout",
     "output_type": "stream",
     "text": [
      "________________________\n",
      "A summary of the data:\n",
      "\n",
      "<class 'pandas.core.frame.DataFrame'>\n",
      "DatetimeIndex: 106 entries, 2009-12-06 to 2011-12-11\n",
      "Data columns (total 1 columns):\n",
      " #   Column  Non-Null Count  Dtype  \n",
      "---  ------  --------------  -----  \n",
      " 0   sales   106 non-null    float64\n",
      "dtypes: float64(1)\n",
      "memory usage: 1.7 KB\n",
      "________________________\n",
      "Index of the data:\n",
      "\n",
      "DatetimeIndex(['2009-12-06', '2009-12-13', '2009-12-20', '2009-12-27',\n",
      "               '2010-01-03', '2010-01-10', '2010-01-17', '2010-01-24',\n",
      "               '2010-01-31', '2010-02-07',\n",
      "               ...\n",
      "               '2011-10-09', '2011-10-16', '2011-10-23', '2011-10-30',\n",
      "               '2011-11-06', '2011-11-13', '2011-11-20', '2011-11-27',\n",
      "               '2011-12-04', '2011-12-11'],\n",
      "              dtype='datetime64[ns]', name='week', length=106, freq=None)\n",
      "\n",
      "\n",
      "________________________\n",
      "Zero-sales weeks:\n",
      "\n",
      "week\n",
      "2010-01-03    53\n",
      "2011-01-02    52\n",
      "Name: week, dtype: UInt32\n",
      "\n",
      "\n",
      "________________________\n",
      "Descriptive statistics of the weekly actual sales:\n",
      "\n",
      "count       104.000000\n",
      "mean     141568.726125\n",
      "std       62060.653934\n",
      "min       22007.770000\n",
      "25%       99773.365000\n",
      "50%      122006.340500\n",
      "75%      172954.668250\n",
      "max      372946.260000\n",
      "Name: sales, dtype: float64\n",
      "\n",
      "\n"
     ]
    }
   ],
   "source": [
    "myout('A summary of the data:')\n",
    "df.info()\n",
    "\n",
    "myout('Index of the data:', df.index)\n",
    "\n",
    "msk_actual = df['sales'] > 0\n",
    "myout(f'Zero-sales weeks:', df_weekly.index[~msk_actual].isocalendar().week)\n",
    "\n",
    "myout('Descriptive statistics of the weekly actual sales:', df.loc[msk_actual, \"sales\"].describe())\n"
   ]
  },
  {
   "cell_type": "markdown",
   "id": "76679abb-e309-475f-9b81-c5f4bfbd3ac0",
   "metadata": {
    "tags": []
   },
   "source": [
    "## Plot time series"
   ]
  },
  {
   "cell_type": "code",
   "execution_count": 245,
   "id": "e9830977-2e55-4a8a-a6b8-afcafb5fe4a0",
   "metadata": {
    "tags": []
   },
   "outputs": [
    {
     "data": {
      "image/png": "[encoded data removed]",
      "text/plain": [
       "<Figure size 1800x288 with 1 Axes>"
      ]
     },
     "metadata": {
      "needs_background": "light"
     },
     "output_type": "display_data"
    }
   ],
   "source": [
    "# Plot the time series.\n",
    "\n",
    "# Plot the time series\n",
    "df['sales'].plot.bar(figsize=(25, 4))\n",
    "\n",
    "# Add title\n",
    "plt.title('Weekly Sales')\n",
    "\n",
    "# the y axis label\n",
    "plt.ylabel('$')\n",
    "\n",
    "plt.show()"
   ]
  },
  {
   "cell_type": "markdown",
   "id": "6ceabd79",
   "metadata": {},
   "source": [
    "## Missing data\n",
    "\n",
    "Check if there are missing values in the time series."
   ]
  },
  {
   "cell_type": "code",
   "execution_count": 246,
   "id": "c0c366dc-55ad-4a80-86c8-c8374bfd7e40",
   "metadata": {
    "tags": []
   },
   "outputs": [
    {
     "name": "stdout",
     "output_type": "stream",
     "text": [
      "________________________\n",
      "Missing values? False\n",
      "\n"
     ]
    }
   ],
   "source": [
    "myout(f'Missing values? {df[\"sales\"].isnull().sum()>0}')"
   ]
  },
  {
   "cell_type": "markdown",
   "id": "9c484bca",
   "metadata": {},
   "source": [
    "## Missing timestamps\n",
    "\n",
    "Check if there are missing timestamps in the index."
   ]
  },
  {
   "cell_type": "code",
   "execution_count": 247,
   "id": "c62f03ff-0dc4-4952-a784-01e4b8e62d16",
   "metadata": {
    "tags": []
   },
   "outputs": [
    {
     "name": "stdout",
     "output_type": "stream",
     "text": [
      "________________________\n",
      "Missing week? False\n",
      "\n"
     ]
    }
   ],
   "source": [
    "# Auxiliary data\n",
    "df_weekly = df.asfreq(\"W\")\n",
    "\n",
    "myout(f'Missing week? {df_weekly[\"sales\"].isnull().any()}')\n"
   ]
  },
  {
   "cell_type": "code",
   "execution_count": 248,
   "id": "dbb090cd-1b92-4b66-905f-8d69b535073b",
   "metadata": {
    "tags": []
   },
   "outputs": [
    {
     "data": {
      "image/png": "[encoded data removed]",
      "text/plain": [
       "<Figure size 1800x288 with 1 Axes>"
      ]
     },
     "metadata": {
      "needs_background": "light"
     },
     "output_type": "display_data"
    }
   ],
   "source": [
    "# Apply the forward fill method.\n",
    "df_full = df_weekly.fillna(method=\"ffill\")\n",
    "\n",
    "# Plot the time series\n",
    "ax = df_weekly['sales'].plot(linestyle=\"-\", marker=\".\", figsize=[25, 4])\n",
    "\n",
    "# plot the imputed values on top, in red.\n",
    "df_full[df_weekly.isnull()]['sales'].plot(ax=ax, legend=None, marker=\".\", color=\"r\")\n",
    "\n",
    "# Add title\n",
    "plt.title('Weekly Sales')\n",
    "\n",
    "# the y axis label\n",
    "plt.ylabel('$')\n",
    "\n",
    "plt.show()\n"
   ]
  },
  {
   "cell_type": "markdown",
   "id": "444ca303",
   "metadata": {},
   "source": [
    "## Seasonality\n",
    "\n",
    "Does the time series show any obvious seasonal pattern?"
   ]
  },
  {
   "cell_type": "raw",
   "id": "6cd72340-f623-4270-9309-2568fd0e97d2",
   "metadata": {},
   "source": [
    "Sales look much higher at the last trimester of each year, just before Christmas time, and very low around New Year's."
   ]
  },
  {
   "cell_type": "markdown",
   "id": "042f1e2b-0731-4259-9618-a3263b029747",
   "metadata": {},
   "source": [
    "### Monthly sales"
   ]
  },
  {
   "cell_type": "code",
   "execution_count": 249,
   "id": "27683ae4-5b7f-40af-9061-4ea64832d15d",
   "metadata": {
    "tags": []
   },
   "outputs": [
    {
     "data": {
      "text/plain": [
       "month\n",
       "2009-12-06    12\n",
       "2009-12-13    12\n",
       "2009-12-20    12\n",
       "2009-12-27    12\n",
       "2010-01-03     1\n",
       "Name: week, dtype: int64"
      ]
     },
     "execution_count": 249,
     "metadata": {},
     "output_type": "execute_result"
    }
   ],
   "source": [
    "# Capture \"time\" in a new variable.\n",
    "\n",
    "mo = df.index.month\n",
    "\n",
    "mo = pd.Series(mo, index=df.index)\n",
    "mo.index.name = 'month'\n",
    "\n",
    "mo.head()"
   ]
  },
  {
   "cell_type": "code",
   "execution_count": 250,
   "id": "fcaf7a2d-9129-43a2-a2c7-a5d2cf81eb8a",
   "metadata": {
    "tags": []
   },
   "outputs": [
    {
     "data": {
      "text/plain": [
       "Text(0, 0.5, '$')"
      ]
     },
     "execution_count": 250,
     "metadata": {},
     "output_type": "execute_result"
    },
    {
     "data": {
      "image/png": "[encoded data removed]",
      "text/plain": [
       "<Figure size 720x360 with 1 Axes>"
      ]
     },
     "metadata": {
      "needs_background": "light"
     },
     "output_type": "display_data"
    }
   ],
   "source": [
    "# Plot the average sales per month.\n",
    "\n",
    "df.groupby(mo)[[\"sales\"]].mean().plot(figsize=(10, 5))\n",
    "plt.title(\"Monthly sales seasonality\")\n",
    "plt.ylabel(\"$\")"
   ]
  },
  {
   "cell_type": "markdown",
   "id": "95de15d0-460e-4b8d-894e-8042330a08dc",
   "metadata": {},
   "source": [
    "### Weekly sales"
   ]
  },
  {
   "cell_type": "code",
   "execution_count": 251,
   "id": "e0391d8d-2539-4986-b4f1-b85b64d0ad94",
   "metadata": {
    "tags": []
   },
   "outputs": [
    {
     "data": {
      "text/plain": [
       "week\n",
       "2009-12-06    49\n",
       "2009-12-13    50\n",
       "2009-12-20    51\n",
       "2009-12-27    52\n",
       "2010-01-03    53\n",
       "Name: week, dtype: UInt32"
      ]
     },
     "execution_count": 251,
     "metadata": {},
     "output_type": "execute_result"
    }
   ],
   "source": [
    "# Capture \"time\" in a new variable.\n",
    "\n",
    "we = df.index.isocalendar().week\n",
    "\n",
    "we = pd.Series(we, index=df.index)\n",
    "we.index.name = 'week'\n",
    "\n",
    "we.head()"
   ]
  },
  {
   "cell_type": "code",
   "execution_count": 252,
   "id": "f3926aa9-48fa-4299-b2bc-7f81936d024f",
   "metadata": {
    "tags": []
   },
   "outputs": [
    {
     "data": {
      "text/plain": [
       "Text(0, 0.5, '$')"
      ]
     },
     "execution_count": 252,
     "metadata": {},
     "output_type": "execute_result"
    },
    {
     "data": {
      "image/png": "[encoded data removed]",
      "text/plain": [
       "<Figure size 720x360 with 1 Axes>"
      ]
     },
     "metadata": {
      "needs_background": "light"
     },
     "output_type": "display_data"
    }
   ],
   "source": [
    "# Plot the average sales per week of the year.\n",
    "\n",
    "df.groupby(we)[[\"sales\"]].mean().plot(figsize=(10, 5))\n",
    "plt.title(\"Per-week yearly sales seasonality\")\n",
    "plt.ylabel(\"$\")"
   ]
  },
  {
   "cell_type": "markdown",
   "id": "e81565cb",
   "metadata": {},
   "source": [
    "# Feature engineering\n",
    "\n",
    "Now, let's begin to tabularize the data."
   ]
  },
  {
   "cell_type": "markdown",
   "id": "20190295-4144-4b61-b100-eea1df1f50bc",
   "metadata": {},
   "source": [
    "### Time-related features"
   ]
  },
  {
   "cell_type": "code",
   "execution_count": 253,
   "id": "c63c3d4a-8ba6-4240-800b-d9bdb30a0791",
   "metadata": {},
   "outputs": [
    {
     "data": {
      "text/html": [
       "<div>\n",
       "<style scoped>\n",
       "    .dataframe tbody tr th:only-of-type {\n",
       "        vertical-align: middle;\n",
       "    }\n",
       "\n",
       "    .dataframe tbody tr th {\n",
       "        vertical-align: top;\n",
       "    }\n",
       "\n",
       "    .dataframe thead th {\n",
       "        text-align: right;\n",
       "    }\n",
       "</style>\n",
       "<table border=\"1\" class=\"dataframe\">\n",
       "  <thead>\n",
       "    <tr style=\"text-align: right;\">\n",
       "      <th></th>\n",
       "      <th>sales</th>\n",
       "      <th>Month</th>\n",
       "      <th>Week</th>\n",
       "      <th>Tri</th>\n",
       "      <th>Holi</th>\n",
       "      <th>HoliHeat</th>\n",
       "      <th>MoWth</th>\n",
       "    </tr>\n",
       "    <tr>\n",
       "      <th>month</th>\n",
       "      <th></th>\n",
       "      <th></th>\n",
       "      <th></th>\n",
       "      <th></th>\n",
       "      <th></th>\n",
       "      <th></th>\n",
       "      <th></th>\n",
       "    </tr>\n",
       "  </thead>\n",
       "  <tbody>\n",
       "    <tr>\n",
       "      <th>2009-12-06</th>\n",
       "      <td>213000.350</td>\n",
       "      <td>12</td>\n",
       "      <td>49</td>\n",
       "      <td>4</td>\n",
       "      <td>1</td>\n",
       "      <td>2</td>\n",
       "      <td>1</td>\n",
       "    </tr>\n",
       "    <tr>\n",
       "      <th>2009-12-13</th>\n",
       "      <td>195810.040</td>\n",
       "      <td>12</td>\n",
       "      <td>50</td>\n",
       "      <td>4</td>\n",
       "      <td>0</td>\n",
       "      <td>1</td>\n",
       "      <td>2</td>\n",
       "    </tr>\n",
       "    <tr>\n",
       "      <th>2009-12-20</th>\n",
       "      <td>182396.740</td>\n",
       "      <td>12</td>\n",
       "      <td>51</td>\n",
       "      <td>4</td>\n",
       "      <td>0</td>\n",
       "      <td>3</td>\n",
       "      <td>3</td>\n",
       "    </tr>\n",
       "    <tr>\n",
       "      <th>2009-12-27</th>\n",
       "      <td>22007.770</td>\n",
       "      <td>12</td>\n",
       "      <td>52</td>\n",
       "      <td>4</td>\n",
       "      <td>1</td>\n",
       "      <td>2</td>\n",
       "      <td>4</td>\n",
       "    </tr>\n",
       "    <tr>\n",
       "      <th>2010-01-03</th>\n",
       "      <td>0.000</td>\n",
       "      <td>1</td>\n",
       "      <td>53</td>\n",
       "      <td>1</td>\n",
       "      <td>0</td>\n",
       "      <td>0</td>\n",
       "      <td>1</td>\n",
       "    </tr>\n",
       "    <tr>\n",
       "      <th>2010-01-10</th>\n",
       "      <td>112318.850</td>\n",
       "      <td>1</td>\n",
       "      <td>1</td>\n",
       "      <td>1</td>\n",
       "      <td>0</td>\n",
       "      <td>0</td>\n",
       "      <td>2</td>\n",
       "    </tr>\n",
       "    <tr>\n",
       "      <th>2010-01-17</th>\n",
       "      <td>111460.470</td>\n",
       "      <td>1</td>\n",
       "      <td>2</td>\n",
       "      <td>1</td>\n",
       "      <td>0</td>\n",
       "      <td>0</td>\n",
       "      <td>3</td>\n",
       "    </tr>\n",
       "    <tr>\n",
       "      <th>2010-01-24</th>\n",
       "      <td>82065.331</td>\n",
       "      <td>1</td>\n",
       "      <td>3</td>\n",
       "      <td>1</td>\n",
       "      <td>0</td>\n",
       "      <td>0</td>\n",
       "      <td>4</td>\n",
       "    </tr>\n",
       "    <tr>\n",
       "      <th>2010-01-31</th>\n",
       "      <td>110790.591</td>\n",
       "      <td>1</td>\n",
       "      <td>4</td>\n",
       "      <td>1</td>\n",
       "      <td>0</td>\n",
       "      <td>0</td>\n",
       "      <td>5</td>\n",
       "    </tr>\n",
       "    <tr>\n",
       "      <th>2010-02-07</th>\n",
       "      <td>95340.552</td>\n",
       "      <td>2</td>\n",
       "      <td>5</td>\n",
       "      <td>1</td>\n",
       "      <td>0</td>\n",
       "      <td>0</td>\n",
       "      <td>1</td>\n",
       "    </tr>\n",
       "    <tr>\n",
       "      <th>2010-02-14</th>\n",
       "      <td>66868.850</td>\n",
       "      <td>2</td>\n",
       "      <td>6</td>\n",
       "      <td>1</td>\n",
       "      <td>0</td>\n",
       "      <td>0</td>\n",
       "      <td>2</td>\n",
       "    </tr>\n",
       "    <tr>\n",
       "      <th>2010-02-21</th>\n",
       "      <td>115261.842</td>\n",
       "      <td>2</td>\n",
       "      <td>7</td>\n",
       "      <td>1</td>\n",
       "      <td>0</td>\n",
       "      <td>0</td>\n",
       "      <td>3</td>\n",
       "    </tr>\n",
       "    <tr>\n",
       "      <th>2010-02-28</th>\n",
       "      <td>133606.692</td>\n",
       "      <td>2</td>\n",
       "      <td>8</td>\n",
       "      <td>1</td>\n",
       "      <td>0</td>\n",
       "      <td>0</td>\n",
       "      <td>4</td>\n",
       "    </tr>\n",
       "    <tr>\n",
       "      <th>2010-03-07</th>\n",
       "      <td>126888.400</td>\n",
       "      <td>3</td>\n",
       "      <td>9</td>\n",
       "      <td>1</td>\n",
       "      <td>0</td>\n",
       "      <td>1</td>\n",
       "      <td>1</td>\n",
       "    </tr>\n",
       "    <tr>\n",
       "      <th>2010-03-14</th>\n",
       "      <td>98040.000</td>\n",
       "      <td>3</td>\n",
       "      <td>10</td>\n",
       "      <td>1</td>\n",
       "      <td>0</td>\n",
       "      <td>3</td>\n",
       "      <td>2</td>\n",
       "    </tr>\n",
       "  </tbody>\n",
       "</table>\n",
       "</div>"
      ],
      "text/plain": [
       "                 sales  Month  Week  Tri  Holi  HoliHeat  MoWth\n",
       "month                                                          \n",
       "2009-12-06  213000.350     12    49    4     1         2      1\n",
       "2009-12-13  195810.040     12    50    4     0         1      2\n",
       "2009-12-20  182396.740     12    51    4     0         3      3\n",
       "2009-12-27   22007.770     12    52    4     1         2      4\n",
       "2010-01-03       0.000      1    53    1     0         0      1\n",
       "2010-01-10  112318.850      1     1    1     0         0      2\n",
       "2010-01-17  111460.470      1     2    1     0         0      3\n",
       "2010-01-24   82065.331      1     3    1     0         0      4\n",
       "2010-01-31  110790.591      1     4    1     0         0      5\n",
       "2010-02-07   95340.552      2     5    1     0         0      1\n",
       "2010-02-14   66868.850      2     6    1     0         0      2\n",
       "2010-02-21  115261.842      2     7    1     0         0      3\n",
       "2010-02-28  133606.692      2     8    1     0         0      4\n",
       "2010-03-07  126888.400      3     9    1     0         1      1\n",
       "2010-03-14   98040.000      3    10    1     0         3      2"
      ]
     },
     "execution_count": 253,
     "metadata": {},
     "output_type": "execute_result"
    }
   ],
   "source": [
    "# Setting some date features.\n",
    "\n",
    "df[\"Month\"] = df.index.month\n",
    "df[\"Week\"] = df.index.isocalendar().week\n",
    "df[\"Tri\"] = 1 + (df.index.month // 4)\n",
    "\n",
    "# Is there a holiday in the week?\n",
    "dt_min = df.index.values[0]\n",
    "dt_max = df.index.values[-1]\n",
    "target_years = df.index.year.drop_duplicates().to_list()\n",
    "holis = pd.Series(holidays.UK(years=target_years).keys())\n",
    "holis = pd.to_datetime(holis)\n",
    "holis = holis + pd.to_timedelta(6 - holis.dt.weekday, unit='D')\n",
    "holis = holis.drop_duplicates()\n",
    "msk_no_newyears = (holis.dt.day > 14) | (holis.dt.month != 1)\n",
    "msk_in_range = (holis >= dt_min) & (holis <= dt_max)\n",
    "holis = holis.loc[msk_no_newyears & msk_in_range]\n",
    "df[\"Holi\"] = 0\n",
    "df.loc[holis, \"Holi\"] = 1\n",
    "\n",
    "# Nearly holiday weight\n",
    "df[\"HoliHeat\"] = \\\n",
    "    2 * df[\"Holi\"] + \\\n",
    "    3 * df[\"Holi\"].shift(-1, fill_value=0) + \\\n",
    "    df[\"Holi\"].shift(-2, fill_value=0)\n",
    "\n",
    "# Monthly week\n",
    "msk_new_mo = df[\"Month\"].diff().fillna(1) != 0\n",
    "df[\"MoWth\"] = np.arange(df.shape[0])\n",
    "df.loc[msk_new_mo, \"MoWth\"] = 1 - df.loc[msk_new_mo, \"MoWth\"].diff().fillna(0)\n",
    "df.loc[~msk_new_mo, \"MoWth\"] = 1\n",
    "df[\"MoWth\"] = df[\"MoWth\"].cumsum().astype(int)\n",
    "\n",
    "df.head(15)"
   ]
  },
  {
   "cell_type": "markdown",
   "id": "7cd2503b-9011-45ed-887b-e85f5e8ca853",
   "metadata": {},
   "source": [
    "### Lag features"
   ]
  },
  {
   "cell_type": "code",
   "execution_count": 254,
   "id": "06014675-2a2a-4534-8eea-908d62d122ff",
   "metadata": {
    "tags": []
   },
   "outputs": [
    {
     "data": {
      "text/html": [
       "<div>\n",
       "<style scoped>\n",
       "    .dataframe tbody tr th:only-of-type {\n",
       "        vertical-align: middle;\n",
       "    }\n",
       "\n",
       "    .dataframe tbody tr th {\n",
       "        vertical-align: top;\n",
       "    }\n",
       "\n",
       "    .dataframe thead th {\n",
       "        text-align: right;\n",
       "    }\n",
       "</style>\n",
       "<table border=\"1\" class=\"dataframe\">\n",
       "  <thead>\n",
       "    <tr style=\"text-align: right;\">\n",
       "      <th></th>\n",
       "      <th>sales</th>\n",
       "      <th>Month</th>\n",
       "      <th>Week</th>\n",
       "      <th>Tri</th>\n",
       "      <th>Holi</th>\n",
       "      <th>HoliHeat</th>\n",
       "      <th>MoWth</th>\n",
       "      <th>sales_lag_1</th>\n",
       "    </tr>\n",
       "    <tr>\n",
       "      <th>month</th>\n",
       "      <th></th>\n",
       "      <th></th>\n",
       "      <th></th>\n",
       "      <th></th>\n",
       "      <th></th>\n",
       "      <th></th>\n",
       "      <th></th>\n",
       "      <th></th>\n",
       "    </tr>\n",
       "  </thead>\n",
       "  <tbody>\n",
       "    <tr>\n",
       "      <th>2009-12-06</th>\n",
       "      <td>213000.35</td>\n",
       "      <td>12</td>\n",
       "      <td>49</td>\n",
       "      <td>4</td>\n",
       "      <td>1</td>\n",
       "      <td>2</td>\n",
       "      <td>1</td>\n",
       "      <td>NaN</td>\n",
       "    </tr>\n",
       "    <tr>\n",
       "      <th>2009-12-13</th>\n",
       "      <td>195810.04</td>\n",
       "      <td>12</td>\n",
       "      <td>50</td>\n",
       "      <td>4</td>\n",
       "      <td>0</td>\n",
       "      <td>1</td>\n",
       "      <td>2</td>\n",
       "      <td>213000.35</td>\n",
       "    </tr>\n",
       "    <tr>\n",
       "      <th>2009-12-20</th>\n",
       "      <td>182396.74</td>\n",
       "      <td>12</td>\n",
       "      <td>51</td>\n",
       "      <td>4</td>\n",
       "      <td>0</td>\n",
       "      <td>3</td>\n",
       "      <td>3</td>\n",
       "      <td>195810.04</td>\n",
       "    </tr>\n",
       "    <tr>\n",
       "      <th>2009-12-27</th>\n",
       "      <td>22007.77</td>\n",
       "      <td>12</td>\n",
       "      <td>52</td>\n",
       "      <td>4</td>\n",
       "      <td>1</td>\n",
       "      <td>2</td>\n",
       "      <td>4</td>\n",
       "      <td>182396.74</td>\n",
       "    </tr>\n",
       "    <tr>\n",
       "      <th>2010-01-03</th>\n",
       "      <td>0.00</td>\n",
       "      <td>1</td>\n",
       "      <td>53</td>\n",
       "      <td>1</td>\n",
       "      <td>0</td>\n",
       "      <td>0</td>\n",
       "      <td>1</td>\n",
       "      <td>22007.77</td>\n",
       "    </tr>\n",
       "  </tbody>\n",
       "</table>\n",
       "</div>"
      ],
      "text/plain": [
       "                sales  Month  Week  Tri  Holi  HoliHeat  MoWth  sales_lag_1\n",
       "month                                                                      \n",
       "2009-12-06  213000.35     12    49    4     1         2      1          NaN\n",
       "2009-12-13  195810.04     12    50    4     0         1      2    213000.35\n",
       "2009-12-20  182396.74     12    51    4     0         3      3    195810.04\n",
       "2009-12-27   22007.77     12    52    4     1         2      4    182396.74\n",
       "2010-01-03       0.00      1    53    1     0         0      1     22007.77"
      ]
     },
     "execution_count": 254,
     "metadata": {},
     "output_type": "execute_result"
    }
   ],
   "source": [
    "# Moving the weekly sales values forward by 1 week,\n",
    "# so that the sales amount from the previous\n",
    "# week (w-1) is aligned with the current week (w),\n",
    "# which is the forecasting point.\n",
    "\n",
    "# Shift the data forward 1 Hr.\n",
    "df['sales_lag_1'] = df['sales'].shift(freq=\"1W\")\n",
    "\n",
    "df.head()"
   ]
  },
  {
   "cell_type": "code",
   "execution_count": 255,
   "id": "587b95a3-c1c5-4284-90a4-6d042f24de31",
   "metadata": {},
   "outputs": [
    {
     "data": {
      "text/html": [
       "<div>\n",
       "<style scoped>\n",
       "    .dataframe tbody tr th:only-of-type {\n",
       "        vertical-align: middle;\n",
       "    }\n",
       "\n",
       "    .dataframe tbody tr th {\n",
       "        vertical-align: top;\n",
       "    }\n",
       "\n",
       "    .dataframe thead th {\n",
       "        text-align: right;\n",
       "    }\n",
       "</style>\n",
       "<table border=\"1\" class=\"dataframe\">\n",
       "  <thead>\n",
       "    <tr style=\"text-align: right;\">\n",
       "      <th></th>\n",
       "      <th>3wSalesMean</th>\n",
       "    </tr>\n",
       "    <tr>\n",
       "      <th>month</th>\n",
       "      <th></th>\n",
       "    </tr>\n",
       "  </thead>\n",
       "  <tbody>\n",
       "    <tr>\n",
       "      <th>2009-12-06</th>\n",
       "      <td>NaN</td>\n",
       "    </tr>\n",
       "    <tr>\n",
       "      <th>2009-12-13</th>\n",
       "      <td>213000.350000</td>\n",
       "    </tr>\n",
       "    <tr>\n",
       "      <th>2009-12-20</th>\n",
       "      <td>204405.195000</td>\n",
       "    </tr>\n",
       "    <tr>\n",
       "      <th>2009-12-27</th>\n",
       "      <td>197069.043333</td>\n",
       "    </tr>\n",
       "    <tr>\n",
       "      <th>2010-01-03</th>\n",
       "      <td>133404.850000</td>\n",
       "    </tr>\n",
       "    <tr>\n",
       "      <th>2010-01-10</th>\n",
       "      <td>68134.836667</td>\n",
       "    </tr>\n",
       "    <tr>\n",
       "      <th>2010-01-17</th>\n",
       "      <td>44775.540000</td>\n",
       "    </tr>\n",
       "    <tr>\n",
       "      <th>2010-01-24</th>\n",
       "      <td>74593.106667</td>\n",
       "    </tr>\n",
       "    <tr>\n",
       "      <th>2010-01-31</th>\n",
       "      <td>101948.217000</td>\n",
       "    </tr>\n",
       "    <tr>\n",
       "      <th>2010-02-07</th>\n",
       "      <td>101438.797333</td>\n",
       "    </tr>\n",
       "  </tbody>\n",
       "</table>\n",
       "</div>"
      ],
      "text/plain": [
       "              3wSalesMean\n",
       "month                    \n",
       "2009-12-06            NaN\n",
       "2009-12-13  213000.350000\n",
       "2009-12-20  204405.195000\n",
       "2009-12-27  197069.043333\n",
       "2010-01-03  133404.850000\n",
       "2010-01-10   68134.836667\n",
       "2010-01-17   44775.540000\n",
       "2010-01-24   74593.106667\n",
       "2010-01-31  101948.217000\n",
       "2010-02-07  101438.797333"
      ]
     },
     "execution_count": 255,
     "metadata": {},
     "output_type": "execute_result"
    }
   ],
   "source": [
    "# Use the mean of the 3 previous weeks as input variables.\n",
    "\n",
    "wind = (\n",
    "    df[['sales']]\n",
    "    .rolling(window=3, min_periods=1)\n",
    "    .mean()    # Average the last 3-week values.\n",
    "    .shift()   # Move the average 1 week forward\n",
    ")\n",
    "\n",
    "wind.rename(columns={'sales': '3wSalesMean'}, inplace=True)\n",
    "\n",
    "# view of the result\n",
    "wind.head(10)"
   ]
  },
  {
   "cell_type": "code",
   "execution_count": 195,
   "id": "7418b37a-6f39-44ed-9641-54227affaa27",
   "metadata": {
    "tags": []
   },
   "outputs": [
    {
     "name": "stdout",
     "output_type": "stream",
     "text": [
      "________________________\n",
      "Shape before: \n",
      "\n",
      "(106, 7)\n",
      "\n",
      "\n",
      "________________________\n",
      "Shape after: \n",
      "\n",
      "(106, 8)\n",
      "\n",
      "\n"
     ]
    },
    {
     "data": {
      "text/html": [
       "<div>\n",
       "<style scoped>\n",
       "    .dataframe tbody tr th:only-of-type {\n",
       "        vertical-align: middle;\n",
       "    }\n",
       "\n",
       "    .dataframe tbody tr th {\n",
       "        vertical-align: top;\n",
       "    }\n",
       "\n",
       "    .dataframe thead th {\n",
       "        text-align: right;\n",
       "    }\n",
       "</style>\n",
       "<table border=\"1\" class=\"dataframe\">\n",
       "  <thead>\n",
       "    <tr style=\"text-align: right;\">\n",
       "      <th></th>\n",
       "      <th>sales</th>\n",
       "      <th>Month</th>\n",
       "      <th>Week</th>\n",
       "      <th>Tri</th>\n",
       "      <th>Holi</th>\n",
       "      <th>HoliHeat</th>\n",
       "      <th>MoWth</th>\n",
       "      <th>3wSalesMean</th>\n",
       "    </tr>\n",
       "    <tr>\n",
       "      <th>week</th>\n",
       "      <th></th>\n",
       "      <th></th>\n",
       "      <th></th>\n",
       "      <th></th>\n",
       "      <th></th>\n",
       "      <th></th>\n",
       "      <th></th>\n",
       "      <th></th>\n",
       "    </tr>\n",
       "  </thead>\n",
       "  <tbody>\n",
       "    <tr>\n",
       "      <th>2009-12-06</th>\n",
       "      <td>213000.350</td>\n",
       "      <td>12</td>\n",
       "      <td>49</td>\n",
       "      <td>4</td>\n",
       "      <td>1</td>\n",
       "      <td>2</td>\n",
       "      <td>1</td>\n",
       "      <td>NaN</td>\n",
       "    </tr>\n",
       "    <tr>\n",
       "      <th>2009-12-13</th>\n",
       "      <td>195810.040</td>\n",
       "      <td>12</td>\n",
       "      <td>50</td>\n",
       "      <td>4</td>\n",
       "      <td>0</td>\n",
       "      <td>1</td>\n",
       "      <td>2</td>\n",
       "      <td>213000.350000</td>\n",
       "    </tr>\n",
       "    <tr>\n",
       "      <th>2009-12-20</th>\n",
       "      <td>182396.740</td>\n",
       "      <td>12</td>\n",
       "      <td>51</td>\n",
       "      <td>4</td>\n",
       "      <td>0</td>\n",
       "      <td>3</td>\n",
       "      <td>3</td>\n",
       "      <td>204405.195000</td>\n",
       "    </tr>\n",
       "    <tr>\n",
       "      <th>2009-12-27</th>\n",
       "      <td>22007.770</td>\n",
       "      <td>12</td>\n",
       "      <td>52</td>\n",
       "      <td>4</td>\n",
       "      <td>1</td>\n",
       "      <td>2</td>\n",
       "      <td>4</td>\n",
       "      <td>197069.043333</td>\n",
       "    </tr>\n",
       "    <tr>\n",
       "      <th>2010-01-03</th>\n",
       "      <td>0.000</td>\n",
       "      <td>1</td>\n",
       "      <td>53</td>\n",
       "      <td>1</td>\n",
       "      <td>0</td>\n",
       "      <td>0</td>\n",
       "      <td>1</td>\n",
       "      <td>133404.850000</td>\n",
       "    </tr>\n",
       "    <tr>\n",
       "      <th>2010-01-10</th>\n",
       "      <td>112318.850</td>\n",
       "      <td>1</td>\n",
       "      <td>1</td>\n",
       "      <td>1</td>\n",
       "      <td>0</td>\n",
       "      <td>0</td>\n",
       "      <td>2</td>\n",
       "      <td>68134.836667</td>\n",
       "    </tr>\n",
       "    <tr>\n",
       "      <th>2010-01-17</th>\n",
       "      <td>111460.470</td>\n",
       "      <td>1</td>\n",
       "      <td>2</td>\n",
       "      <td>1</td>\n",
       "      <td>0</td>\n",
       "      <td>0</td>\n",
       "      <td>3</td>\n",
       "      <td>44775.540000</td>\n",
       "    </tr>\n",
       "    <tr>\n",
       "      <th>2010-01-24</th>\n",
       "      <td>82065.331</td>\n",
       "      <td>1</td>\n",
       "      <td>3</td>\n",
       "      <td>1</td>\n",
       "      <td>0</td>\n",
       "      <td>0</td>\n",
       "      <td>4</td>\n",
       "      <td>74593.106667</td>\n",
       "    </tr>\n",
       "    <tr>\n",
       "      <th>2010-01-31</th>\n",
       "      <td>110790.591</td>\n",
       "      <td>1</td>\n",
       "      <td>4</td>\n",
       "      <td>1</td>\n",
       "      <td>0</td>\n",
       "      <td>0</td>\n",
       "      <td>5</td>\n",
       "      <td>101948.217000</td>\n",
       "    </tr>\n",
       "    <tr>\n",
       "      <th>2010-02-07</th>\n",
       "      <td>95340.552</td>\n",
       "      <td>2</td>\n",
       "      <td>5</td>\n",
       "      <td>1</td>\n",
       "      <td>0</td>\n",
       "      <td>0</td>\n",
       "      <td>1</td>\n",
       "      <td>101438.797333</td>\n",
       "    </tr>\n",
       "    <tr>\n",
       "      <th>2010-02-14</th>\n",
       "      <td>66868.850</td>\n",
       "      <td>2</td>\n",
       "      <td>6</td>\n",
       "      <td>1</td>\n",
       "      <td>0</td>\n",
       "      <td>0</td>\n",
       "      <td>2</td>\n",
       "      <td>96065.491333</td>\n",
       "    </tr>\n",
       "    <tr>\n",
       "      <th>2010-02-21</th>\n",
       "      <td>115261.842</td>\n",
       "      <td>2</td>\n",
       "      <td>7</td>\n",
       "      <td>1</td>\n",
       "      <td>0</td>\n",
       "      <td>0</td>\n",
       "      <td>3</td>\n",
       "      <td>90999.997667</td>\n",
       "    </tr>\n",
       "    <tr>\n",
       "      <th>2010-02-28</th>\n",
       "      <td>133606.692</td>\n",
       "      <td>2</td>\n",
       "      <td>8</td>\n",
       "      <td>1</td>\n",
       "      <td>0</td>\n",
       "      <td>0</td>\n",
       "      <td>4</td>\n",
       "      <td>92490.414667</td>\n",
       "    </tr>\n",
       "    <tr>\n",
       "      <th>2010-03-07</th>\n",
       "      <td>126888.400</td>\n",
       "      <td>3</td>\n",
       "      <td>9</td>\n",
       "      <td>1</td>\n",
       "      <td>0</td>\n",
       "      <td>1</td>\n",
       "      <td>1</td>\n",
       "      <td>105245.794667</td>\n",
       "    </tr>\n",
       "    <tr>\n",
       "      <th>2010-03-14</th>\n",
       "      <td>98040.000</td>\n",
       "      <td>3</td>\n",
       "      <td>10</td>\n",
       "      <td>1</td>\n",
       "      <td>0</td>\n",
       "      <td>3</td>\n",
       "      <td>2</td>\n",
       "      <td>125252.311333</td>\n",
       "    </tr>\n",
       "  </tbody>\n",
       "</table>\n",
       "</div>"
      ],
      "text/plain": [
       "                 sales  Month  Week  Tri  Holi  HoliHeat  MoWth    3wSalesMean\n",
       "week                                                                          \n",
       "2009-12-06  213000.350     12    49    4     1         2      1            NaN\n",
       "2009-12-13  195810.040     12    50    4     0         1      2  213000.350000\n",
       "2009-12-20  182396.740     12    51    4     0         3      3  204405.195000\n",
       "2009-12-27   22007.770     12    52    4     1         2      4  197069.043333\n",
       "2010-01-03       0.000      1    53    1     0         0      1  133404.850000\n",
       "2010-01-10  112318.850      1     1    1     0         0      2   68134.836667\n",
       "2010-01-17  111460.470      1     2    1     0         0      3   44775.540000\n",
       "2010-01-24   82065.331      1     3    1     0         0      4   74593.106667\n",
       "2010-01-31  110790.591      1     4    1     0         0      5  101948.217000\n",
       "2010-02-07   95340.552      2     5    1     0         0      1  101438.797333\n",
       "2010-02-14   66868.850      2     6    1     0         0      2   96065.491333\n",
       "2010-02-21  115261.842      2     7    1     0         0      3   90999.997667\n",
       "2010-02-28  133606.692      2     8    1     0         0      4   92490.414667\n",
       "2010-03-07  126888.400      3     9    1     0         1      1  105245.794667\n",
       "2010-03-14   98040.000      3    10    1     0         3      2  125252.311333"
      ]
     },
     "execution_count": 195,
     "metadata": {},
     "output_type": "execute_result"
    }
   ],
   "source": [
    "# Join the 3-week window to the original data.\n",
    "myout(\"Shape before: \", df.shape)\n",
    "\n",
    "df = df.merge(wind, left_index=True, right_index=True, how=\"left\")\n",
    "\n",
    "myout(\"Shape after: \", df.shape)\n",
    "\n",
    "df.head(15)"
   ]
  },
  {
   "cell_type": "markdown",
   "id": "0ecd6648-eece-4175-8d75-ef3c9ac8a8fe",
   "metadata": {},
   "source": [
    "### Periodic features"
   ]
  },
  {
   "cell_type": "code",
   "execution_count": 256,
   "id": "24203add-5f44-41cd-9220-84657dc37ce2",
   "metadata": {
    "tags": []
   },
   "outputs": [
    {
     "name": "stdout",
     "output_type": "stream",
     "text": [
      "________________________\n",
      "Maximum values used for the transformation of each variable:\n",
      "\n",
      "{'Month': 12, 'Week': 53, 'Tri': 4, 'MoWth': 5}\n",
      "\n",
      "\n"
     ]
    },
    {
     "data": {
      "text/html": [
       "<div>\n",
       "<style scoped>\n",
       "    .dataframe tbody tr th:only-of-type {\n",
       "        vertical-align: middle;\n",
       "    }\n",
       "\n",
       "    .dataframe tbody tr th {\n",
       "        vertical-align: top;\n",
       "    }\n",
       "\n",
       "    .dataframe thead th {\n",
       "        text-align: right;\n",
       "    }\n",
       "</style>\n",
       "<table border=\"1\" class=\"dataframe\">\n",
       "  <thead>\n",
       "    <tr style=\"text-align: right;\">\n",
       "      <th></th>\n",
       "      <th>Month_sin</th>\n",
       "      <th>Month_cos</th>\n",
       "      <th>Week_sin</th>\n",
       "      <th>Week_cos</th>\n",
       "      <th>Tri_sin</th>\n",
       "      <th>Tri_cos</th>\n",
       "      <th>MoWth_sin</th>\n",
       "      <th>MoWth_cos</th>\n",
       "    </tr>\n",
       "    <tr>\n",
       "      <th>month</th>\n",
       "      <th></th>\n",
       "      <th></th>\n",
       "      <th></th>\n",
       "      <th></th>\n",
       "      <th></th>\n",
       "      <th></th>\n",
       "      <th></th>\n",
       "      <th></th>\n",
       "    </tr>\n",
       "  </thead>\n",
       "  <tbody>\n",
       "    <tr>\n",
       "      <th>2009-12-06</th>\n",
       "      <td>-2.449294e-16</td>\n",
       "      <td>1.000000</td>\n",
       "      <td>-0.456629</td>\n",
       "      <td>0.889657</td>\n",
       "      <td>-2.449294e-16</td>\n",
       "      <td>1.000000e+00</td>\n",
       "      <td>0.951057</td>\n",
       "      <td>0.309017</td>\n",
       "    </tr>\n",
       "    <tr>\n",
       "      <th>2009-12-13</th>\n",
       "      <td>-2.449294e-16</td>\n",
       "      <td>1.000000</td>\n",
       "      <td>-0.348202</td>\n",
       "      <td>0.93742</td>\n",
       "      <td>-2.449294e-16</td>\n",
       "      <td>1.000000e+00</td>\n",
       "      <td>0.587785</td>\n",
       "      <td>-0.809017</td>\n",
       "    </tr>\n",
       "    <tr>\n",
       "      <th>2009-12-20</th>\n",
       "      <td>-2.449294e-16</td>\n",
       "      <td>1.000000</td>\n",
       "      <td>-0.234886</td>\n",
       "      <td>0.972023</td>\n",
       "      <td>-2.449294e-16</td>\n",
       "      <td>1.000000e+00</td>\n",
       "      <td>-0.587785</td>\n",
       "      <td>-0.809017</td>\n",
       "    </tr>\n",
       "    <tr>\n",
       "      <th>2009-12-27</th>\n",
       "      <td>-2.449294e-16</td>\n",
       "      <td>1.000000</td>\n",
       "      <td>-0.118273</td>\n",
       "      <td>0.992981</td>\n",
       "      <td>-2.449294e-16</td>\n",
       "      <td>1.000000e+00</td>\n",
       "      <td>-0.951057</td>\n",
       "      <td>0.309017</td>\n",
       "    </tr>\n",
       "    <tr>\n",
       "      <th>2010-01-03</th>\n",
       "      <td>5.000000e-01</td>\n",
       "      <td>0.866025</td>\n",
       "      <td>-0.0</td>\n",
       "      <td>1.0</td>\n",
       "      <td>1.000000e+00</td>\n",
       "      <td>6.123234e-17</td>\n",
       "      <td>0.951057</td>\n",
       "      <td>0.309017</td>\n",
       "    </tr>\n",
       "  </tbody>\n",
       "</table>\n",
       "</div>"
      ],
      "text/plain": [
       "               Month_sin  Month_cos  Week_sin  Week_cos       Tri_sin  \\\n",
       "month                                                                   \n",
       "2009-12-06 -2.449294e-16   1.000000 -0.456629  0.889657 -2.449294e-16   \n",
       "2009-12-13 -2.449294e-16   1.000000 -0.348202   0.93742 -2.449294e-16   \n",
       "2009-12-20 -2.449294e-16   1.000000 -0.234886  0.972023 -2.449294e-16   \n",
       "2009-12-27 -2.449294e-16   1.000000 -0.118273  0.992981 -2.449294e-16   \n",
       "2010-01-03  5.000000e-01   0.866025      -0.0       1.0  1.000000e+00   \n",
       "\n",
       "                 Tri_cos  MoWth_sin  MoWth_cos  \n",
       "month                                           \n",
       "2009-12-06  1.000000e+00   0.951057   0.309017  \n",
       "2009-12-13  1.000000e+00   0.587785  -0.809017  \n",
       "2009-12-20  1.000000e+00  -0.587785  -0.809017  \n",
       "2009-12-27  1.000000e+00  -0.951057   0.309017  \n",
       "2010-01-03  6.123234e-17   0.951057   0.309017  "
      ]
     },
     "execution_count": 256,
     "metadata": {},
     "output_type": "execute_result"
    }
   ],
   "source": [
    "# Create features that capture the cyclical representation.\n",
    "\n",
    "cyclical = CyclicalFeatures(\n",
    "    variables=['Month', 'Week', 'Tri', \"MoWth\"],  # The features we want to transform.\n",
    "    drop_original=False,  # Whether to drop the original features.\n",
    ")\n",
    "\n",
    "df = cyclical.fit_transform(df)\n",
    "\n",
    "cyclical_vars = [var for var in df.columns if var.endswith(('_sin', '_cos'))]\n",
    "\n",
    "myout('Maximum values used for the transformation of each variable:', cyclical.max_values_)\n",
    "\n",
    "df[cyclical_vars].head()"
   ]
  },
  {
   "cell_type": "markdown",
   "id": "c0549bfb-13dc-480b-9a85-1f3470d8e366",
   "metadata": {},
   "source": [
    "### Drop missing data"
   ]
  },
  {
   "cell_type": "code",
   "execution_count": 257,
   "id": "8ff7c2f2-e42a-45fd-b046-24aa17ddd1ef",
   "metadata": {},
   "outputs": [
    {
     "name": "stdout",
     "output_type": "stream",
     "text": [
      "             count    perc\n",
      "sales            0  0.0000\n",
      "Month            0  0.0000\n",
      "Week             0  0.0000\n",
      "Tri              0  0.0000\n",
      "Holi             0  0.0000\n",
      "HoliHeat         0  0.0000\n",
      "MoWth            0  0.0000\n",
      "sales_lag_1      1  0.9434\n",
      "Month_sin        0  0.0000\n",
      "Month_cos        0  0.0000\n",
      "Week_sin         0  0.0000\n",
      "Week_cos         0  0.0000\n",
      "Tri_sin          0  0.0000\n",
      "Tri_cos          0  0.0000\n",
      "MoWth_sin        0  0.0000\n",
      "MoWth_cos        0  0.0000\n"
     ]
    }
   ],
   "source": [
    "# Determine fraction of missing data.\n",
    "\n",
    "df_miss = df.isnull().sum().to_frame('count')\n",
    "df_miss['perc'] = (100 * df_miss['count'] / df.shape[0]).round(4)\n",
    "\n",
    "print(df_miss)"
   ]
  },
  {
   "cell_type": "markdown",
   "id": "55df8bed-e81e-44f0-8f18-5887bf896a5a",
   "metadata": {},
   "source": [
    "We introduced only one NULL entry, on the 3-week windows. So we'll remove the corresponding row only."
   ]
  },
  {
   "cell_type": "code",
   "execution_count": 258,
   "id": "57473d67-7e75-4b79-83f3-444040324037",
   "metadata": {
    "tags": []
   },
   "outputs": [
    {
     "name": "stdout",
     "output_type": "stream",
     "text": [
      "________________________\n",
      "Data size before\n",
      "\n",
      "(106, 16)\n",
      "\n",
      "\n",
      "________________________\n",
      "Data size after\n",
      "\n",
      "(105, 16)\n",
      "\n",
      "\n"
     ]
    }
   ],
   "source": [
    "myout(\"Data size before\", df.shape)\n",
    "\n",
    "df.dropna(inplace=True)\n",
    "\n",
    "myout(\"Data size after\", df.shape)\n"
   ]
  },
  {
   "cell_type": "markdown",
   "id": "20ae8079",
   "metadata": {},
   "source": [
    "## Split data\n",
    "\n",
    "Separate the data into training and testing sets, leaving the data after the last week of September to evaluate the forecasts, that is, in the testing set."
   ]
  },
  {
   "cell_type": "code",
   "execution_count": 259,
   "id": "82219dec-41f2-453a-aef5-ad921585e9d4",
   "metadata": {
    "tags": []
   },
   "outputs": [
    {
     "name": "stdout",
     "output_type": "stream",
     "text": [
      "________________________\n",
      "Threshold date: 2011-09-25 00:00:00\n",
      "\n",
      "________________________\n",
      "X_train.shape: (94, 16)\n",
      "\n",
      "________________________\n",
      "X_test.shape: (11, 16)\n",
      "\n"
     ]
    }
   ],
   "source": [
    "sep_dt = df.index[df['Month'] == 9].max()\n",
    "\n",
    "X_train = df[df.index <= sep_dt]\n",
    "X_test = df[df.index > sep_dt]\n",
    "\n",
    "myout(f'Threshold date: {sep_dt}')\n",
    "myout(f'X_train.shape: {X_train.shape}')\n",
    "myout(f'X_test.shape: {X_test.shape}')\n"
   ]
  },
  {
   "cell_type": "code",
   "execution_count": 260,
   "id": "93dca950-d736-4468-9bc2-53fa5bff059e",
   "metadata": {
    "tags": []
   },
   "outputs": [
    {
     "name": "stdout",
     "output_type": "stream",
     "text": [
      "________________________\n",
      "X_train...\n",
      "\n",
      "            Month  Week  Tri  Holi  HoliHeat  MoWth  sales_lag_1  \\\n",
      "month                                                              \n",
      "2009-12-13     12    50    4     0         1      2    213000.35   \n",
      "2009-12-20     12    51    4     0         3      3    195810.04   \n",
      "2009-12-27     12    52    4     1         2      4    182396.74   \n",
      "2010-01-03      1    53    1     0         0      1     22007.77   \n",
      "2010-01-10      1     1    1     0         0      2         0.00   \n",
      "\n",
      "               Month_sin  Month_cos  Week_sin  Week_cos       Tri_sin  \\\n",
      "month                                                                   \n",
      "2009-12-13 -2.449294e-16   1.000000 -0.348202   0.93742 -2.449294e-16   \n",
      "2009-12-20 -2.449294e-16   1.000000 -0.234886  0.972023 -2.449294e-16   \n",
      "2009-12-27 -2.449294e-16   1.000000 -0.118273  0.992981 -2.449294e-16   \n",
      "2010-01-03  5.000000e-01   0.866025      -0.0       1.0  1.000000e+00   \n",
      "2010-01-10  5.000000e-01   0.866025  0.118273  0.992981  1.000000e+00   \n",
      "\n",
      "                 Tri_cos  MoWth_sin  MoWth_cos  \n",
      "month                                           \n",
      "2009-12-13  1.000000e+00   0.587785  -0.809017  \n",
      "2009-12-20  1.000000e+00  -0.587785  -0.809017  \n",
      "2009-12-27  1.000000e+00  -0.951057   0.309017  \n",
      "2010-01-03  6.123234e-17   0.951057   0.309017  \n",
      "2010-01-10  6.123234e-17   0.587785  -0.809017  \n",
      "\n",
      "\n",
      "________________________\n",
      "X_test...\n",
      "\n",
      "            Month  Week  Tri  Holi  HoliHeat  MoWth  sales_lag_1  Month_sin  \\\n",
      "month                                                                         \n",
      "2011-10-02     10    39    3     0         0      1   249563.051  -0.866025   \n",
      "2011-10-09     10    40    3     0         0      2   170904.201  -0.866025   \n",
      "2011-10-16     10    41    3     0         0      3   253713.540  -0.866025   \n",
      "2011-10-23     10    42    3     0         0      4   161438.540  -0.866025   \n",
      "2011-10-30     10    43    3     0         0      5   179106.070  -0.866025   \n",
      "\n",
      "            Month_cos  Week_sin  Week_cos  Tri_sin       Tri_cos  \\\n",
      "month                                                              \n",
      "2011-10-02        0.5  -0.99605 -0.088796     -1.0 -1.836970e-16   \n",
      "2011-10-09        0.5 -0.999561  0.029633     -1.0 -1.836970e-16   \n",
      "2011-10-16        0.5  -0.98904  0.147647     -1.0 -1.836970e-16   \n",
      "2011-10-23        0.5 -0.964636  0.263587     -1.0 -1.836970e-16   \n",
      "2011-10-30        0.5  -0.92669  0.375828     -1.0 -1.836970e-16   \n",
      "\n",
      "               MoWth_sin  MoWth_cos  \n",
      "month                                \n",
      "2011-10-02  9.510565e-01   0.309017  \n",
      "2011-10-09  5.877853e-01  -0.809017  \n",
      "2011-10-16 -5.877853e-01  -0.809017  \n",
      "2011-10-23 -9.510565e-01   0.309017  \n",
      "2011-10-30 -2.449294e-16   1.000000  \n",
      "\n",
      "\n"
     ]
    }
   ],
   "source": [
    "# the target variable\n",
    "y_train = X_train[\"sales\"].copy()\n",
    "y_test = X_test[\"sales\"].copy()\n",
    "\n",
    "# remove raw time series from predictors set\n",
    "X_train = X_train.drop(\"sales\", axis=1)\n",
    "X_test = X_test.drop(\"sales\", axis=1)\n",
    "\n",
    "myout('X_train...', X_train.head())\n",
    "myout('X_test...', X_test.head())"
   ]
  },
  {
   "cell_type": "markdown",
   "id": "820803d5",
   "metadata": {},
   "source": [
    "## Naive forecast\n",
    "\n",
    "Predict sales in the next week (t) as the value of sales in the previous week (t-1)."
   ]
  },
  {
   "cell_type": "code",
   "execution_count": 264,
   "id": "48f44ebf-a576-4e0f-ac57-750bfdebe99d",
   "metadata": {},
   "outputs": [
    {
     "name": "stdout",
     "output_type": "stream",
     "text": [
      "________________________\n",
      "Train RMSE:\n",
      "\n",
      "48097.2853793685\n",
      "\n",
      "\n",
      "________________________\n",
      "Test RMSE:\n",
      "\n",
      "65327.34284108387\n",
      "\n",
      "\n"
     ]
    }
   ],
   "source": [
    "# Performance of naive forecast \n",
    "# (based on the sales from the previous week)\n",
    "\n",
    "train_rmse = \\\n",
    "    mean_squared_error(\n",
    "        y_train, \n",
    "        X_train[\"sales_lag_1\"], \n",
    "        squared=False)\n",
    "\n",
    "test_rmse = \\\n",
    "    mean_squared_error(\n",
    "        y_test, \n",
    "        X_test[\"sales_lag_1\"], \n",
    "        squared=False)\n",
    "\n",
    "myout(\"Train RMSE:\", train_rmse)\n",
    "\n",
    "myout(\"Test RMSE:\", test_rmse)\n"
   ]
  },
  {
   "cell_type": "markdown",
   "id": "4058260e",
   "metadata": {},
   "source": [
    "## Machine Learning"
   ]
  },
  {
   "cell_type": "markdown",
   "id": "9a13327b-b77f-487f-8d31-dca92254d65b",
   "metadata": {},
   "source": [
    "### Random Forests"
   ]
  },
  {
   "cell_type": "code",
   "execution_count": 265,
   "id": "4957673a",
   "metadata": {},
   "outputs": [
    {
     "data": {
      "text/plain": [
       "RandomForestRegressor(max_depth=3, n_estimators=50, random_state=0)"
      ]
     },
     "execution_count": 265,
     "metadata": {},
     "output_type": "execute_result"
    }
   ],
   "source": [
    "rf_model = RandomForestRegressor(\n",
    "    n_estimators=50,\n",
    "    max_depth=3,\n",
    "    random_state=0,\n",
    ")\n",
    "\n",
    "rf_model.fit(X_train, y_train)"
   ]
  },
  {
   "cell_type": "code",
   "execution_count": 269,
   "id": "e50cc3db-580e-4598-8100-3c6f61cad4ca",
   "metadata": {
    "tags": []
   },
   "outputs": [
    {
     "name": "stdout",
     "output_type": "stream",
     "text": [
      "________________________\n",
      "Train RMSE (Random Forest):\n",
      "\n",
      "25495.92666876237\n",
      "\n",
      "\n",
      "________________________\n",
      "Test RMSE (Random Forest):\n",
      "\n",
      "58513.4182877306\n",
      "\n",
      "\n"
     ]
    }
   ],
   "source": [
    "# Performance of random forests\n",
    "\n",
    "rf_train_rmse = \\\n",
    "    mean_squared_error(\n",
    "        y_train, \n",
    "        rf_model.predict(X_train), \n",
    "        squared=False)\n",
    "\n",
    "rf_test_rmse = \\\n",
    "    mean_squared_error(\n",
    "        y_test, \n",
    "        rf_model.predict(X_test), \n",
    "        squared=False)\n",
    "\n",
    "myout(\"Train RMSE (Random Forest):\", rf_train_rmse)\n",
    "\n",
    "myout(\"Test RMSE (Random Forest):\", rf_test_rmse)\n",
    "\n"
   ]
  },
  {
   "cell_type": "markdown",
   "id": "3f902c87-cb4a-4e36-85f1-ff49fa2071db",
   "metadata": {},
   "source": [
    "### Linear Regression\n",
    "\n",
    "Random Forest regression models are not very good at extrapolating values beyond those observed in the data. So let's now train a Lasso regression for comparison."
   ]
  },
  {
   "cell_type": "code",
   "execution_count": 268,
   "id": "98af3f34-1baf-43bd-a7a8-62baffc81a03",
   "metadata": {
    "tags": []
   },
   "outputs": [
    {
     "data": {
      "text/plain": [
       "Lasso(alpha=100, random_state=0)"
      ]
     },
     "execution_count": 268,
     "metadata": {},
     "output_type": "execute_result"
    }
   ],
   "source": [
    "linear_model = Lasso(alpha=100, random_state=0)\n",
    "\n",
    "linear_model.fit(X_train, y_train)"
   ]
  },
  {
   "cell_type": "code",
   "execution_count": 270,
   "id": "58fab5bd-16a1-4fc1-9fcd-06c81b9395df",
   "metadata": {
    "tags": []
   },
   "outputs": [
    {
     "name": "stdout",
     "output_type": "stream",
     "text": [
      "________________________\n",
      "Train RMSE (Linear Model):\n",
      "\n",
      "36079.53079873376\n",
      "\n",
      "\n",
      "________________________\n",
      "Test RMSE (Linear Model):\n",
      "\n",
      "58513.4182877306\n",
      "\n",
      "\n"
     ]
    }
   ],
   "source": [
    "# Performance of linear model\n",
    "\n",
    "lin_train_rmse = \\\n",
    "    mean_squared_error(\n",
    "        y_train, \n",
    "        linear_model.predict(X_train), \n",
    "        squared=False)\n",
    "\n",
    "lin_test_rmse = \\\n",
    "    mean_squared_error(\n",
    "        y_test, \n",
    "        rf_model.predict(X_test), \n",
    "        squared=False)\n",
    "\n",
    "myout(\"Train RMSE (Linear Model):\", lin_train_rmse)\n",
    "\n",
    "myout(\"Test RMSE (Linear Model):\", lin_test_rmse)\n",
    "\n",
    "\n"
   ]
  },
  {
   "cell_type": "code",
   "execution_count": 271,
   "id": "3ad6f3b3-6ddf-45c3-bd56-7f1280a7e955",
   "metadata": {
    "tags": []
   },
   "outputs": [
    {
     "data": {
      "text/plain": [
       "Text(0, 0.5, 'Importance')"
      ]
     },
     "execution_count": 271,
     "metadata": {},
     "output_type": "execute_result"
    },
    {
     "data": {
      "image/png": "[encoded data removed]",
      "text/plain": [
       "<Figure size 1080x432 with 1 Axes>"
      ]
     },
     "metadata": {
      "needs_background": "light"
     },
     "output_type": "display_data"
    }
   ],
   "source": [
    "# Let's now plot the feature's importance\n",
    "# according to the linear model.\n",
    "\n",
    "# Create series with feature importance.\n",
    "tmp = pd.Series(np.abs(linear_model.coef_))\n",
    "\n",
    "# Let's add the variable names.\n",
    "tmp.index = X_train.columns\n",
    "\n",
    "# Let's make a bar plot.\n",
    "tmp.plot.bar(figsize=(15, 6))\n",
    "plt.title(\"Feature importance\")\n",
    "plt.ylabel(\"Importance\")"
   ]
  },
  {
   "cell_type": "markdown",
   "id": "ae6027ae-3ea8-4d0d-a629-048e1d51f658",
   "metadata": {
    "tags": []
   },
   "source": [
    "#### Performances"
   ]
  },
  {
   "cell_type": "code",
   "execution_count": 273,
   "id": "7e6eed51-23f7-41b4-b37b-58f086e01cdc",
   "metadata": {
    "tags": []
   },
   "outputs": [
    {
     "data": {
      "text/plain": [
       "<AxesSubplot:xlabel='Data'>"
      ]
     },
     "execution_count": 273,
     "metadata": {},
     "output_type": "execute_result"
    },
    {
     "data": {
      "image/png": "[encoded data removed]",
      "text/plain": [
       "<Figure size 432x288 with 1 Axes>"
      ]
     },
     "metadata": {
      "needs_background": "light"
     },
     "output_type": "display_data"
    }
   ],
   "source": [
    "# creating dataframe\n",
    "perf = pd.DataFrame({\n",
    "    'Data': ['Train', 'Test'],\n",
    "    'Naive': [train_rmse, test_rmse],\n",
    "    'Random Forest': [rf_train_rmse, rf_test_rmse],\n",
    "    'Linear': [lin_train_rmse, lin_test_rmse]\n",
    "})\n",
    "  \n",
    "# plotting graph\n",
    "perf.plot(x=\"Data\", y=[\"Naive\", \"Random Forest\", \"Linear\"], kind=\"bar\")"
   ]
  }
 ],
 "metadata": {
  "kernelspec": {
   "display_name": "Python 3",
   "language": "python",
   "name": "python3"
  },
  "language_info": {
   "codemirror_mode": {
    "name": "ipython",
    "version": 3
   },
   "file_extension": ".py",
   "mimetype": "text/x-python",
   "name": "python",
   "nbconvert_exporter": "python",
   "pygments_lexer": "ipython3",
   "version": "3.7.8"
  },
  "toc": {
   "base_numbering": 1,
   "nav_menu": {},
   "number_sections": true,
   "sideBar": true,
   "skip_h1_title": false,
   "title_cell": "Table of Contents",
   "title_sidebar": "Contents",
   "toc_cell": false,
   "toc_position": {},
   "toc_section_display": true,
   "toc_window_display": true
  }
 },
 "nbformat": 4,
 "nbformat_minor": 5
}
